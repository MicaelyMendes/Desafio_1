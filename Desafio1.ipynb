{
  "nbformat": 4,
  "nbformat_minor": 0,
  "metadata": {
    "colab": {
      "name": "Desafio1.ipynb",
      "provenance": []
    },
    "kernelspec": {
      "name": "python3",
      "display_name": "Python 3"
    },
    "language_info": {
      "name": "python"
    }
  },
  "cells": [
    {
      "cell_type": "code",
      "execution_count": null,
      "metadata": {
        "id": "HISmZAFZl8uR"
      },
      "outputs": [],
      "source": [
        "import numpy as np \n",
        "import pandas as pd\n",
        "import seaborn as sns\n",
        "from collections import Counter\n",
        "import matplotlib.pyplot as plt\n",
        "\n",
        "# configuração output dos plots\n",
        "plt.rcParams['figure.figsize'] = [12, 8]\n",
        "plt.rcParams['figure.dpi'] = 100\n",
        "sns.set_context('notebook')"
      ]
    },
    {
      "cell_type": "code",
      "source": [
        "#######################\n",
        "### Dados Influenza ###\n",
        "#######################\n",
        "\n",
        "influenza= open('influenza.fasta').read()\n",
        "influenza = influenza[104:]\n",
        "#print(influenza)\n",
        "influenza = influenza.replace(\"\\n\",\"\")\n",
        "#print(influenza)\n",
        "\n",
        "pares_influenza = []\n",
        "for i in range(len(influenza)-1):\n",
        "  pares_influenza.append(influenza[i]+influenza[i+1])\n",
        "\n",
        "#print(pares_influenza)\n",
        "\n",
        "contagem_influenza = pd.DataFrame(pares_influenza).value_counts()\n",
        "print(contagem_influenza)\n",
        "\n",
        "AA = contagem_influenza[0]\n",
        "GA = contagem_influenza[1]\n",
        "AG = contagem_influenza[2]\n",
        "CA = contagem_influenza[3]\n",
        "AT = contagem_influenza[4]\n",
        "TG = contagem_influenza[5]\n",
        "GG = contagem_influenza[6]\n",
        "TC = contagem_influenza[7]\n",
        "GC = contagem_influenza[8]\n",
        "AC = contagem_influenza[9]\n",
        "TT = contagem_influenza[10]\n",
        "CC = contagem_influenza[11]\n",
        "CT = contagem_influenza[12]\n",
        "GT = contagem_influenza[13]\n",
        "TA = contagem_influenza[14]\n",
        "CG = contagem_influenza[15]\n",
        "\n",
        "matriz = np.array([AA,AT,AC,AG,TA,TT,TC,TG,CA,CT,CC,CG,GA,GT,GC,GG])\n",
        "matriz_influenza = matriz.reshape(4,4)\n",
        "print(matriz_influenza)"
      ],
      "metadata": {
        "colab": {
          "base_uri": "https://localhost:8080/"
        },
        "id": "Ssa34Lz9rlR5",
        "outputId": "d679a6d1-4c28-444b-fca9-b6f8f3e31cb3"
      },
      "execution_count": null,
      "outputs": [
        {
          "output_type": "stream",
          "name": "stdout",
          "text": [
            "AA    174\n",
            "GA    160\n",
            "AG    144\n",
            "CA    128\n",
            "AT    118\n",
            "TG    117\n",
            "GG    109\n",
            "TC     82\n",
            "GC     77\n",
            "AC     75\n",
            "TT     71\n",
            "CC     69\n",
            "CT     68\n",
            "GT     62\n",
            "TA     49\n",
            "CG     37\n",
            "dtype: int64\n",
            "[[174 118  75 144]\n",
            " [ 49  71  82 117]\n",
            " [128  68  69  37]\n",
            " [160  62  77 109]]\n"
          ]
        }
      ]
    },
    {
      "cell_type": "code",
      "source": [
        "plt.imshow(matriz_influenza, cmap = 'Blues', origin=\"lower\")\n",
        "plt.xlabel('Índice da linha'); plt.ylabel('Índice da coluna')\n",
        "plt.xticks((0,1,2,3),['A','T','C','G'])\n",
        "plt.yticks([3, 2, 1, 0],['G','C','T','A'])\n",
        "plt.title(\"Influenza A\")\n",
        "_ = plt.colorbar()"
      ],
      "metadata": {
        "colab": {
          "base_uri": "https://localhost:8080/",
          "height": 295
        },
        "id": "cF0R9lV6ByrX",
        "outputId": "0b8e4b4c-7c25-4a35-c8d9-8bdef77d3bad"
      },
      "execution_count": null,
      "outputs": [
        {
          "output_type": "display_data",
          "data": {
            "text/plain": [
              "<Figure size 432x288 with 2 Axes>"
            ],
            "image/png": "[encoded data removed]"
          },
          "metadata": {
            "needs_background": "light"
          }
        }
      ]
    },
    {
      "cell_type": "code",
      "source": [
        "#######################\n",
        "##### Dados covid #####\n",
        "#######################\n",
        "\n",
        "covid= open('covid.fasta').read()\n",
        "covid = covid[97:]\n",
        "#print(covid)\n",
        "covid = covid.replace(\"\\n\",\"\")\n",
        "#print(covid)\n",
        "\n",
        "pares_covid = []\n",
        "for i in range(len(covid)-1):\n",
        "  pares_covid.append(covid[i]+covid[i+1])\n",
        "\n",
        "\n",
        "contagem_covid = pd.DataFrame(pares_covid).value_counts()\n",
        "print(contagem_covid)\n",
        "\n",
        "TT2 = contagem_covid[0]\n",
        "AA2 = contagem_covid[1]\n",
        "TG2 = contagem_covid[2]\n",
        "TA2 = contagem_covid[3]\n",
        "AT2 = contagem_covid[4]\n",
        "CA2 = contagem_covid[5]\n",
        "CT2 = contagem_covid[6]\n",
        "AC2 = contagem_covid[7]\n",
        "GT2 = contagem_covid[8]\n",
        "AG2 = contagem_covid[9]\n",
        "GA2 = contagem_covid[10]\n",
        "TC2 = contagem_covid[11]\n",
        "GC2 = contagem_covid[12]\n",
        "GG2 = contagem_covid[13]\n",
        "CC2 = contagem_covid[14]\n",
        "CG2 = contagem_covid[15]\n",
        "\n",
        "matriz2 = np.array([AA2,AT2,AC2,AG2,TA2,TT2,TC2,TG2,CA2,CT2,CC2,CG2,GA2,GT2,GC2,GG2])\n",
        "matriz_covid = matriz2.reshape(4,4)\n",
        "print(matriz_covid)\n",
        "\n",
        "plt.imshow(matriz_covid, cmap = 'Blues', origin=\"lower\")\n",
        "plt.xlabel('Índice da linha'); plt.ylabel('Índice da coluna')\n",
        "plt.xticks((0,1,2,3),['A','T','C','G'])\n",
        "plt.yticks([3, 2, 1, 0],['G','C','T','A'])\n",
        "plt.title(\"Covid-19\")\n",
        "_ = plt.colorbar()\n"
      ],
      "metadata": {
        "colab": {
          "base_uri": "https://localhost:8080/",
          "height": 683
        },
        "id": "F9qQVqYlGryZ",
        "outputId": "df10d2ef-7fb7-4b6c-8e83-246fba31f3d2"
      },
      "execution_count": null,
      "outputs": [
        {
          "output_type": "stream",
          "name": "stdout",
          "text": [
            "TT    3215\n",
            "AA    2880\n",
            "TG    2589\n",
            "TA    2377\n",
            "AT    2308\n",
            "CA    2084\n",
            "CT    2081\n",
            "AC    2023\n",
            "GT    1990\n",
            "AG    1742\n",
            "GA    1612\n",
            "TC    1413\n",
            "GC    1168\n",
            "GG    1093\n",
            "CC     888\n",
            "CG     439\n",
            "dtype: int64\n",
            "[[2880 2308 2023 1742]\n",
            " [2377 3215 1413 2589]\n",
            " [2084 2081  888  439]\n",
            " [1612 1990 1168 1093]]\n"
          ]
        },
        {
          "output_type": "display_data",
          "data": {
            "text/plain": [
              "<Figure size 432x288 with 2 Axes>"
            ],
            "image/png": "[encoded data removed]"
          },
          "metadata": {
            "needs_background": "light"
          }
        }
      ]
    },
    {
      "cell_type": "code",
      "source": [
        "plt.subplot(1, 2, 1) # row 1, col 2 index 1\n",
        "plt.imshow(matriz_influenza, cmap = 'Blues', origin=\"lower\")\n",
        "plt.xlabel('Índice da linha'); plt.ylabel('Índice da coluna')\n",
        "plt.xticks((0,1,2,3),['A','T','C','G'])\n",
        "plt.yticks([3, 2, 1, 0],['G','C','T','A'])\n",
        "plt.title(\"Influenza A\")\n",
        "_ = plt.colorbar()\n",
        "\n",
        "plt.subplot(1, 2, 2) # index 2\n",
        "plt.imshow(matriz_covid, cmap = 'Blues', origin=\"lower\")\n",
        "plt.xlabel('Índice da linha'); plt.ylabel('Índice da coluna')\n",
        "plt.xticks((0,1,2,3),['A','T','C','G'])\n",
        "plt.yticks([3, 2, 1, 0],['G','C','T','A'])\n",
        "plt.title(\"Covid-19\")\n",
        "_ = plt.colorbar()"
      ],
      "metadata": {
        "colab": {
          "base_uri": "https://localhost:8080/",
          "height": 640
        },
        "id": "BrysmeiWKEpX",
        "outputId": "d1e03e48-40e3-41cc-bb3b-679a68624771"
      },
      "execution_count": null,
      "outputs": [
        {
          "output_type": "display_data",
          "data": {
            "text/plain": [
              "<Figure size 1200x800 with 4 Axes>"
            ],
            "image/png": "[encoded data removed]"
          },
          "metadata": {
            "needs_background": "light"
          }
        }
      ]
    }
  ]
}